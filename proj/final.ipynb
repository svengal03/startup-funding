{
 "cells": [
  {
   "cell_type": "code",
   "execution_count": 4,
   "metadata": {},
   "outputs": [
    {
     "name": "stdout",
     "output_type": "stream",
     "text": [
      "0.8487941968200365\n"
     ]
    }
   ],
   "source": [
    "import numpy as np\n",
    "import matplotlib.pyplot as plt\n",
    "import pandas as pd\n",
    "\n",
    "dataset = pd.read_csv('C:/Users/student/Desktop/proj/abc.csv')\n",
    "\n",
    "dataset['IndustryVertical']=dataset['IndustryVertical'].astype('category')\n",
    "dataset['CityLocation']=dataset['CityLocation'].astype('category')\n",
    "dataset['InvestmentType']=dataset['InvestmentType'].astype('category')\n",
    "dataset=pd.get_dummies(dataset,columns=['IndustryVertical','CityLocation','InvestmentType'], drop_first=True)\n",
    "\n",
    "Y = dataset['AmountInUSD']\n",
    "from sklearn.model_selection import train_test_split\n",
    "X_train,X_test,y_train,y_test = train_test_split(dataset,Y,test_size=0.2,random_state=42)\n",
    "from sklearn.preprocessing import StandardScaler\n",
    "sc = StandardScaler()\n",
    "X_train = sc.fit_transform(X_train)\n",
    "X_test = sc.transform(X_test)\n",
    "from sklearn.linear_model import ElasticNet\n",
    "regressor= ElasticNet()\n",
    "#from sklearn.ensemble import GradientBoostingRegressor\n",
    "#regressor= GradientBoostingRegressor()\n",
    "regressor.fit(X_train,y_train)\n",
    "y_pred = regressor.predict(X_test)\n",
    "y3 = regressor.score(X_test,y_test)\n",
    "print(y3)"
   ]
  },
  {
   "cell_type": "code",
   "execution_count": null,
   "metadata": {},
   "outputs": [],
   "source": []
  },
  {
   "cell_type": "code",
   "execution_count": null,
   "metadata": {},
   "outputs": [],
   "source": []
  }
 ],
 "metadata": {
  "kernelspec": {
   "display_name": "Python 3",
   "language": "python",
   "name": "python3"
  },
  "language_info": {
   "codemirror_mode": {
    "name": "ipython",
    "version": 3
   },
   "file_extension": ".py",
   "mimetype": "text/x-python",
   "name": "python",
   "nbconvert_exporter": "python",
   "pygments_lexer": "ipython3",
   "version": "3.6.5"
  }
 },
 "nbformat": 4,
 "nbformat_minor": 2
}
